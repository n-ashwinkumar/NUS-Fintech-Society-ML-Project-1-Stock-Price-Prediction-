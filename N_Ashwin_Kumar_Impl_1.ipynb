{
  "nbformat": 4,
  "nbformat_minor": 0,
  "metadata": {
    "colab": {
      "provenance": []
    },
    "kernelspec": {
      "name": "python3",
      "display_name": "Python 3"
    },
    "language_info": {
      "name": "python"
    }
  },
  "cells": [
    {
      "cell_type": "code",
      "execution_count": null,
      "metadata": {
        "id": "G8HGUyq27yM3"
      },
      "outputs": [],
      "source": [
        "import pandas as pd\n",
        "import numpy as np\n",
        "import math\n",
        "import matplotlib.pyplot as plt\n",
        "import yfinance as yf\n",
        "from sklearn.preprocessing import MinMaxScaler\n",
        "from keras.models import Sequential\n",
        "from keras.layers import Dense, LSTM\n",
        "import datetime"
      ]
    },
    {
      "cell_type": "markdown",
      "source": [
        "**Choice of model: Classic LSTM**\n",
        "\n",
        "LSTM can learn and remember patterns in the price data over time pretty well since it's able to capture temporal dependencies in the time series data as compared to other models such as linear regression.\n"
      ],
      "metadata": {
        "id": "BO_iDd_d-asJ"
      }
    },
    {
      "cell_type": "code",
      "source": [
        "# NVIDIA dataset\n",
        "df = yf.download(\n",
        "    'NVDA',\n",
        "    '2015-01-01',\n",
        "    '2023-10-21'\n",
        ")\n",
        "\n",
        "df"
      ],
      "metadata": {
        "colab": {
          "base_uri": "https://localhost:8080/",
          "height": 646
        },
        "id": "_jp9RGnzJbeI",
        "outputId": "ddfb8507-7b5d-4366-d5f7-695fa023de7e"
      },
      "execution_count": null,
      "outputs": [
        {
          "output_type": "stream",
          "name": "stdout",
          "text": [
            "\r[*********************100%%**********************]  1 of 1 completed\n"
          ]
        },
        {
          "output_type": "execute_result",
          "data": {
            "text/plain": [
              "                  Open        High         Low       Close   Adj Close  \\\n",
              "Date                                                                     \n",
              "2015-01-02    5.032500    5.070000    4.952500    5.032500    4.833229   \n",
              "2015-01-05    5.032500    5.047500    4.925000    4.947500    4.751597   \n",
              "2015-01-06    4.955000    4.960000    4.792500    4.797500    4.607534   \n",
              "2015-01-07    4.832500    4.875000    4.770000    4.785000    4.595530   \n",
              "2015-01-08    4.840000    4.995000    4.837500    4.965000    4.768404   \n",
              "...                ...         ...         ...         ...         ...   \n",
              "2023-10-16  450.630005  462.250000  449.119995  460.950012  460.950012   \n",
              "2023-10-17  440.000000  447.540009  424.799988  439.380005  439.380005   \n",
              "2023-10-18  425.910004  432.190002  418.250000  421.959991  421.959991   \n",
              "2023-10-19  428.109985  432.970001  418.820007  421.010010  421.010010   \n",
              "2023-10-20  418.899994  424.700012  410.779999  413.869995  413.869995   \n",
              "\n",
              "              Volume  \n",
              "Date                  \n",
              "2015-01-02  11368000  \n",
              "2015-01-05  19795200  \n",
              "2015-01-06  19776400  \n",
              "2015-01-07  32180800  \n",
              "2015-01-08  28378000  \n",
              "...              ...  \n",
              "2023-10-16  37509900  \n",
              "2023-10-17  81233300  \n",
              "2023-10-18  62729400  \n",
              "2023-10-19  50123300  \n",
              "2023-10-20  47638100  \n",
              "\n",
              "[2216 rows x 6 columns]"
            ],
            "text/html": [
              "\n",
              "  <div id=\"df-889f7f50-2215-4dfe-9ab9-28b6ef561a7d\" class=\"colab-df-container\">\n",
              "    <div>\n",
              "<style scoped>\n",
              "    .dataframe tbody tr th:only-of-type {\n",
              "        vertical-align: middle;\n",
              "    }\n",
              "\n",
              "    .dataframe tbody tr th {\n",
              "        vertical-align: top;\n",
              "    }\n",
              "\n",
              "    .dataframe thead th {\n",
              "        text-align: right;\n",
              "    }\n",
              "</style>\n",
              "<table border=\"1\" class=\"dataframe\">\n",
              "  <thead>\n",
              "    <tr style=\"text-align: right;\">\n",
              "      <th></th>\n",
              "      <th>Open</th>\n",
              "      <th>High</th>\n",
              "      <th>Low</th>\n",
              "      <th>Close</th>\n",
              "      <th>Adj Close</th>\n",
              "      <th>Volume</th>\n",
              "    </tr>\n",
              "    <tr>\n",
              "      <th>Date</th>\n",
              "      <th></th>\n",
              "      <th></th>\n",
              "      <th></th>\n",
              "      <th></th>\n",
              "      <th></th>\n",
              "      <th></th>\n",
              "    </tr>\n",
              "  </thead>\n",
              "  <tbody>\n",
              "    <tr>\n",
              "      <th>2015-01-02</th>\n",
              "      <td>5.032500</td>\n",
              "      <td>5.070000</td>\n",
              "      <td>4.952500</td>\n",
              "      <td>5.032500</td>\n",
              "      <td>4.833229</td>\n",
              "      <td>11368000</td>\n",
              "    </tr>\n",
              "    <tr>\n",
              "      <th>2015-01-05</th>\n",
              "      <td>5.032500</td>\n",
              "      <td>5.047500</td>\n",
              "      <td>4.925000</td>\n",
              "      <td>4.947500</td>\n",
              "      <td>4.751597</td>\n",
              "      <td>19795200</td>\n",
              "    </tr>\n",
              "    <tr>\n",
              "      <th>2015-01-06</th>\n",
              "      <td>4.955000</td>\n",
              "      <td>4.960000</td>\n",
              "      <td>4.792500</td>\n",
              "      <td>4.797500</td>\n",
              "      <td>4.607534</td>\n",
              "      <td>19776400</td>\n",
              "    </tr>\n",
              "    <tr>\n",
              "      <th>2015-01-07</th>\n",
              "      <td>4.832500</td>\n",
              "      <td>4.875000</td>\n",
              "      <td>4.770000</td>\n",
              "      <td>4.785000</td>\n",
              "      <td>4.595530</td>\n",
              "      <td>32180800</td>\n",
              "    </tr>\n",
              "    <tr>\n",
              "      <th>2015-01-08</th>\n",
              "      <td>4.840000</td>\n",
              "      <td>4.995000</td>\n",
              "      <td>4.837500</td>\n",
              "      <td>4.965000</td>\n",
              "      <td>4.768404</td>\n",
              "      <td>28378000</td>\n",
              "    </tr>\n",
              "    <tr>\n",
              "      <th>...</th>\n",
              "      <td>...</td>\n",
              "      <td>...</td>\n",
              "      <td>...</td>\n",
              "      <td>...</td>\n",
              "      <td>...</td>\n",
              "      <td>...</td>\n",
              "    </tr>\n",
              "    <tr>\n",
              "      <th>2023-10-16</th>\n",
              "      <td>450.630005</td>\n",
              "      <td>462.250000</td>\n",
              "      <td>449.119995</td>\n",
              "      <td>460.950012</td>\n",
              "      <td>460.950012</td>\n",
              "      <td>37509900</td>\n",
              "    </tr>\n",
              "    <tr>\n",
              "      <th>2023-10-17</th>\n",
              "      <td>440.000000</td>\n",
              "      <td>447.540009</td>\n",
              "      <td>424.799988</td>\n",
              "      <td>439.380005</td>\n",
              "      <td>439.380005</td>\n",
              "      <td>81233300</td>\n",
              "    </tr>\n",
              "    <tr>\n",
              "      <th>2023-10-18</th>\n",
              "      <td>425.910004</td>\n",
              "      <td>432.190002</td>\n",
              "      <td>418.250000</td>\n",
              "      <td>421.959991</td>\n",
              "      <td>421.959991</td>\n",
              "      <td>62729400</td>\n",
              "    </tr>\n",
              "    <tr>\n",
              "      <th>2023-10-19</th>\n",
              "      <td>428.109985</td>\n",
              "      <td>432.970001</td>\n",
              "      <td>418.820007</td>\n",
              "      <td>421.010010</td>\n",
              "      <td>421.010010</td>\n",
              "      <td>50123300</td>\n",
              "    </tr>\n",
              "    <tr>\n",
              "      <th>2023-10-20</th>\n",
              "      <td>418.899994</td>\n",
              "      <td>424.700012</td>\n",
              "      <td>410.779999</td>\n",
              "      <td>413.869995</td>\n",
              "      <td>413.869995</td>\n",
              "      <td>47638100</td>\n",
              "    </tr>\n",
              "  </tbody>\n",
              "</table>\n",
              "<p>2216 rows × 6 columns</p>\n",
              "</div>\n",
              "    <div class=\"colab-df-buttons\">\n",
              "\n",
              "  <div class=\"colab-df-container\">\n",
              "    <button class=\"colab-df-convert\" onclick=\"convertToInteractive('df-889f7f50-2215-4dfe-9ab9-28b6ef561a7d')\"\n",
              "            title=\"Convert this dataframe to an interactive table.\"\n",
              "            style=\"display:none;\">\n",
              "\n",
              "  <svg xmlns=\"http://www.w3.org/2000/svg\" height=\"24px\" viewBox=\"0 -960 960 960\">\n",
              "    <path d=\"M120-120v-720h720v720H120Zm60-500h600v-160H180v160Zm220 220h160v-160H400v160Zm0 220h160v-160H400v160ZM180-400h160v-160H180v160Zm440 0h160v-160H620v160ZM180-180h160v-160H180v160Zm440 0h160v-160H620v160Z\"/>\n",
              "  </svg>\n",
              "    </button>\n",
              "\n",
              "  <style>\n",
              "    .colab-df-container {\n",
              "      display:flex;\n",
              "      gap: 12px;\n",
              "    }\n",
              "\n",
              "    .colab-df-convert {\n",
              "      background-color: #E8F0FE;\n",
              "      border: none;\n",
              "      border-radius: 50%;\n",
              "      cursor: pointer;\n",
              "      display: none;\n",
              "      fill: #1967D2;\n",
              "      height: 32px;\n",
              "      padding: 0 0 0 0;\n",
              "      width: 32px;\n",
              "    }\n",
              "\n",
              "    .colab-df-convert:hover {\n",
              "      background-color: #E2EBFA;\n",
              "      box-shadow: 0px 1px 2px rgba(60, 64, 67, 0.3), 0px 1px 3px 1px rgba(60, 64, 67, 0.15);\n",
              "      fill: #174EA6;\n",
              "    }\n",
              "\n",
              "    .colab-df-buttons div {\n",
              "      margin-bottom: 4px;\n",
              "    }\n",
              "\n",
              "    [theme=dark] .colab-df-convert {\n",
              "      background-color: #3B4455;\n",
              "      fill: #D2E3FC;\n",
              "    }\n",
              "\n",
              "    [theme=dark] .colab-df-convert:hover {\n",
              "      background-color: #434B5C;\n",
              "      box-shadow: 0px 1px 3px 1px rgba(0, 0, 0, 0.15);\n",
              "      filter: drop-shadow(0px 1px 2px rgba(0, 0, 0, 0.3));\n",
              "      fill: #FFFFFF;\n",
              "    }\n",
              "  </style>\n",
              "\n",
              "    <script>\n",
              "      const buttonEl =\n",
              "        document.querySelector('#df-889f7f50-2215-4dfe-9ab9-28b6ef561a7d button.colab-df-convert');\n",
              "      buttonEl.style.display =\n",
              "        google.colab.kernel.accessAllowed ? 'block' : 'none';\n",
              "\n",
              "      async function convertToInteractive(key) {\n",
              "        const element = document.querySelector('#df-889f7f50-2215-4dfe-9ab9-28b6ef561a7d');\n",
              "        const dataTable =\n",
              "          await google.colab.kernel.invokeFunction('convertToInteractive',\n",
              "                                                    [key], {});\n",
              "        if (!dataTable) return;\n",
              "\n",
              "        const docLinkHtml = 'Like what you see? Visit the ' +\n",
              "          '<a target=\"_blank\" href=https://colab.research.google.com/notebooks/data_table.ipynb>data table notebook</a>'\n",
              "          + ' to learn more about interactive tables.';\n",
              "        element.innerHTML = '';\n",
              "        dataTable['output_type'] = 'display_data';\n",
              "        await google.colab.output.renderOutput(dataTable, element);\n",
              "        const docLink = document.createElement('div');\n",
              "        docLink.innerHTML = docLinkHtml;\n",
              "        element.appendChild(docLink);\n",
              "      }\n",
              "    </script>\n",
              "  </div>\n",
              "\n",
              "\n",
              "<div id=\"df-a1eda4f5-bf2d-41e0-b2dc-dc8ff3c7e366\">\n",
              "  <button class=\"colab-df-quickchart\" onclick=\"quickchart('df-a1eda4f5-bf2d-41e0-b2dc-dc8ff3c7e366')\"\n",
              "            title=\"Suggest charts.\"\n",
              "            style=\"display:none;\">\n",
              "\n",
              "<svg xmlns=\"http://www.w3.org/2000/svg\" height=\"24px\"viewBox=\"0 0 24 24\"\n",
              "     width=\"24px\">\n",
              "    <g>\n",
              "        <path d=\"M19 3H5c-1.1 0-2 .9-2 2v14c0 1.1.9 2 2 2h14c1.1 0 2-.9 2-2V5c0-1.1-.9-2-2-2zM9 17H7v-7h2v7zm4 0h-2V7h2v10zm4 0h-2v-4h2v4z\"/>\n",
              "    </g>\n",
              "</svg>\n",
              "  </button>\n",
              "\n",
              "<style>\n",
              "  .colab-df-quickchart {\n",
              "      --bg-color: #E8F0FE;\n",
              "      --fill-color: #1967D2;\n",
              "      --hover-bg-color: #E2EBFA;\n",
              "      --hover-fill-color: #174EA6;\n",
              "      --disabled-fill-color: #AAA;\n",
              "      --disabled-bg-color: #DDD;\n",
              "  }\n",
              "\n",
              "  [theme=dark] .colab-df-quickchart {\n",
              "      --bg-color: #3B4455;\n",
              "      --fill-color: #D2E3FC;\n",
              "      --hover-bg-color: #434B5C;\n",
              "      --hover-fill-color: #FFFFFF;\n",
              "      --disabled-bg-color: #3B4455;\n",
              "      --disabled-fill-color: #666;\n",
              "  }\n",
              "\n",
              "  .colab-df-quickchart {\n",
              "    background-color: var(--bg-color);\n",
              "    border: none;\n",
              "    border-radius: 50%;\n",
              "    cursor: pointer;\n",
              "    display: none;\n",
              "    fill: var(--fill-color);\n",
              "    height: 32px;\n",
              "    padding: 0;\n",
              "    width: 32px;\n",
              "  }\n",
              "\n",
              "  .colab-df-quickchart:hover {\n",
              "    background-color: var(--hover-bg-color);\n",
              "    box-shadow: 0 1px 2px rgba(60, 64, 67, 0.3), 0 1px 3px 1px rgba(60, 64, 67, 0.15);\n",
              "    fill: var(--button-hover-fill-color);\n",
              "  }\n",
              "\n",
              "  .colab-df-quickchart-complete:disabled,\n",
              "  .colab-df-quickchart-complete:disabled:hover {\n",
              "    background-color: var(--disabled-bg-color);\n",
              "    fill: var(--disabled-fill-color);\n",
              "    box-shadow: none;\n",
              "  }\n",
              "\n",
              "  .colab-df-spinner {\n",
              "    border: 2px solid var(--fill-color);\n",
              "    border-color: transparent;\n",
              "    border-bottom-color: var(--fill-color);\n",
              "    animation:\n",
              "      spin 1s steps(1) infinite;\n",
              "  }\n",
              "\n",
              "  @keyframes spin {\n",
              "    0% {\n",
              "      border-color: transparent;\n",
              "      border-bottom-color: var(--fill-color);\n",
              "      border-left-color: var(--fill-color);\n",
              "    }\n",
              "    20% {\n",
              "      border-color: transparent;\n",
              "      border-left-color: var(--fill-color);\n",
              "      border-top-color: var(--fill-color);\n",
              "    }\n",
              "    30% {\n",
              "      border-color: transparent;\n",
              "      border-left-color: var(--fill-color);\n",
              "      border-top-color: var(--fill-color);\n",
              "      border-right-color: var(--fill-color);\n",
              "    }\n",
              "    40% {\n",
              "      border-color: transparent;\n",
              "      border-right-color: var(--fill-color);\n",
              "      border-top-color: var(--fill-color);\n",
              "    }\n",
              "    60% {\n",
              "      border-color: transparent;\n",
              "      border-right-color: var(--fill-color);\n",
              "    }\n",
              "    80% {\n",
              "      border-color: transparent;\n",
              "      border-right-color: var(--fill-color);\n",
              "      border-bottom-color: var(--fill-color);\n",
              "    }\n",
              "    90% {\n",
              "      border-color: transparent;\n",
              "      border-bottom-color: var(--fill-color);\n",
              "    }\n",
              "  }\n",
              "</style>\n",
              "\n",
              "  <script>\n",
              "    async function quickchart(key) {\n",
              "      const quickchartButtonEl =\n",
              "        document.querySelector('#' + key + ' button');\n",
              "      quickchartButtonEl.disabled = true;  // To prevent multiple clicks.\n",
              "      quickchartButtonEl.classList.add('colab-df-spinner');\n",
              "      try {\n",
              "        const charts = await google.colab.kernel.invokeFunction(\n",
              "            'suggestCharts', [key], {});\n",
              "      } catch (error) {\n",
              "        console.error('Error during call to suggestCharts:', error);\n",
              "      }\n",
              "      quickchartButtonEl.classList.remove('colab-df-spinner');\n",
              "      quickchartButtonEl.classList.add('colab-df-quickchart-complete');\n",
              "    }\n",
              "    (() => {\n",
              "      let quickchartButtonEl =\n",
              "        document.querySelector('#df-a1eda4f5-bf2d-41e0-b2dc-dc8ff3c7e366 button');\n",
              "      quickchartButtonEl.style.display =\n",
              "        google.colab.kernel.accessAllowed ? 'block' : 'none';\n",
              "    })();\n",
              "  </script>\n",
              "</div>\n",
              "    </div>\n",
              "  </div>\n"
            ]
          },
          "metadata": {},
          "execution_count": 3
        }
      ]
    },
    {
      "cell_type": "code",
      "source": [
        "# Get the number of rows & columns in the dataset\n",
        "df.shape"
      ],
      "metadata": {
        "colab": {
          "base_uri": "https://localhost:8080/"
        },
        "id": "s7j0vTWi3BM1",
        "outputId": "5af2f445-f2bb-43b2-ab23-d289889723b1"
      },
      "execution_count": null,
      "outputs": [
        {
          "output_type": "execute_result",
          "data": {
            "text/plain": [
              "(2216, 6)"
            ]
          },
          "metadata": {},
          "execution_count": 3
        }
      ]
    },
    {
      "cell_type": "code",
      "source": [
        "# Plotting the stock closing price of NVIDIA from 2015 to 2023\n",
        "plt.figure(figsize = (12,9))\n",
        "plt.subplot(2,1,1)\n",
        "plt.plot(df['Close'], color = 'blue')\n",
        "plt.title('NVDA Closing Price History')"
      ],
      "metadata": {
        "colab": {
          "base_uri": "https://localhost:8080/",
          "height": 277
        },
        "id": "buJyZOdnBb1U",
        "outputId": "141568fd-e886-4bdc-aa05-d0ed668de402"
      },
      "execution_count": null,
      "outputs": [
        {
          "output_type": "execute_result",
          "data": {
            "text/plain": [
              "Text(0.5, 1.0, 'NVDA Closing Price History')"
            ]
          },
          "metadata": {},
          "execution_count": 4
        },
        {
          "output_type": "display_data",
          "data": {
            "text/plain": [
              "<Figure size 1200x900 with 1 Axes>"
            ],
            "image/png": "[encoded data removed]"
          },
          "metadata": {}
        }
      ]
    },
    {
      "cell_type": "code",
      "source": [
        "# Create a new df with only the 'Close' column\n",
        "data = df.filter(['Close'])\n",
        "\n",
        "# Convert the df to a numpy array\n",
        "dataset = data.values\n",
        "\n",
        "# Get the number of rows to train the model on\n",
        "train_data_len = math.ceil(len(dataset) * 0.8)\n",
        "train_data_len"
      ],
      "metadata": {
        "colab": {
          "base_uri": "https://localhost:8080/"
        },
        "id": "IdzNQ3-vZout",
        "outputId": "c0226730-d73a-4150-c015-94758f46dbe9"
      },
      "execution_count": null,
      "outputs": [
        {
          "output_type": "execute_result",
          "data": {
            "text/plain": [
              "1773"
            ]
          },
          "metadata": {},
          "execution_count": 5
        }
      ]
    },
    {
      "cell_type": "code",
      "source": [
        "dataset[:15]"
      ],
      "metadata": {
        "colab": {
          "base_uri": "https://localhost:8080/"
        },
        "id": "e3oprTmuq14x",
        "outputId": "d3dc89e0-1f97-4e58-d2e9-1455dbc2f9aa"
      },
      "execution_count": null,
      "outputs": [
        {
          "output_type": "execute_result",
          "data": {
            "text/plain": [
              "array([[5.03249979],\n",
              "       [4.94750023],\n",
              "       [4.79750013],\n",
              "       [4.78499985],\n",
              "       [4.96500015],\n",
              "       [4.98500013],\n",
              "       [4.92250013],\n",
              "       [4.91499996],\n",
              "       [4.93499994],\n",
              "       [4.9000001 ],\n",
              "       [4.98999977],\n",
              "       [5.00500011],\n",
              "       [5.07499981],\n",
              "       [5.1624999 ],\n",
              "       [5.17749977]])"
            ]
          },
          "metadata": {},
          "execution_count": 6
        }
      ]
    },
    {
      "cell_type": "code",
      "source": [
        "# Scale the data\n",
        "scaler = MinMaxScaler(feature_range=(0,1))\n",
        "scaled_data = scaler.fit_transform(dataset)\n",
        "scaled_data"
      ],
      "metadata": {
        "colab": {
          "base_uri": "https://localhost:8080/"
        },
        "id": "qBI2KVLV4Phf",
        "outputId": "43e234d0-a0b0-46b0-829c-c700e1338b27"
      },
      "execution_count": null,
      "outputs": [
        {
          "output_type": "execute_result",
          "data": {
            "text/plain": [
              "array([[5.06378216e-04],\n",
              "       [3.32471403e-04],\n",
              "       [2.55752487e-05],\n",
              "       ...,\n",
              "       [8.53528796e-01],\n",
              "       [8.51585159e-01],\n",
              "       [8.36976881e-01]])"
            ]
          },
          "metadata": {},
          "execution_count": 7
        }
      ]
    },
    {
      "cell_type": "code",
      "source": [
        "# Create the scaled train dataset\n",
        "train_data = scaled_data[0:train_data_len, :]\n",
        "\n",
        "# Split the data into x_train and y_train datasets\n",
        "x_train = []\n",
        "y_train = []\n",
        "\n",
        "for i in range(20, len(train_data)):\n",
        "  x_train.append(train_data[i-20:i, 0])\n",
        "  y_train.append(train_data[i, 0])"
      ],
      "metadata": {
        "id": "7KM686eG43gA"
      },
      "execution_count": null,
      "outputs": []
    },
    {
      "cell_type": "code",
      "source": [
        "# Convert the x_train and y_train to numpy arrays\n",
        "x_train, y_train = np.array(x_train), np.array(y_train)\n",
        "\n",
        "# Reshape the data as the LSTM model expects the input data to be 3-dimensional (no. of samples, no. of timesteps, and no. of features)\n",
        "x_train = np.reshape(x_train, (x_train.shape[0], x_train.shape[1], 1))\n",
        "x_train.shape"
      ],
      "metadata": {
        "colab": {
          "base_uri": "https://localhost:8080/"
        },
        "id": "oHhIzfrx7mog",
        "outputId": "9f6d2a05-7618-4807-f825-c82d306be6b9"
      },
      "execution_count": null,
      "outputs": [
        {
          "output_type": "execute_result",
          "data": {
            "text/plain": [
              "(1753, 20, 1)"
            ]
          },
          "metadata": {},
          "execution_count": 9
        }
      ]
    },
    {
      "cell_type": "code",
      "source": [
        "# Build the LSTM model\n",
        "model = Sequential()\n",
        "model.add(LSTM(50, return_sequences=True, input_shape=(x_train.shape[1],1)))\n",
        "model.add(LSTM(50, return_sequences=True))\n",
        "model.add(LSTM(50, return_sequences=False))\n",
        "model.add(Dense(units=1, activation='linear'))"
      ],
      "metadata": {
        "id": "qYJyMAmI9JCr"
      },
      "execution_count": null,
      "outputs": []
    },
    {
      "cell_type": "code",
      "source": [
        "# Compile the model\n",
        "model.compile(optimizer='adam', loss='mean_squared_error')"
      ],
      "metadata": {
        "id": "GFrg7J3K-JmA"
      },
      "execution_count": null,
      "outputs": []
    },
    {
      "cell_type": "code",
      "source": [
        "# Train the model\n",
        "model.fit(x_train, y_train, batch_size=64, epochs=100)"
      ],
      "metadata": {
        "colab": {
          "base_uri": "https://localhost:8080/"
        },
        "id": "liYLvgGt-gCY",
        "outputId": "d0632db3-dd73-41c4-9459-1acd3296f2cc"
      },
      "execution_count": null,
      "outputs": [
        {
          "output_type": "stream",
          "name": "stdout",
          "text": [
            "Epoch 1/100\n",
            "28/28 [==============================] - 15s 76ms/step - loss: 0.0079\n",
            "Epoch 2/100\n",
            "28/28 [==============================] - 3s 93ms/step - loss: 6.1718e-04\n",
            "Epoch 3/100\n",
            "28/28 [==============================] - 1s 42ms/step - loss: 3.0624e-04\n",
            "Epoch 4/100\n",
            "28/28 [==============================] - 2s 55ms/step - loss: 2.4648e-04\n",
            "Epoch 5/100\n",
            "28/28 [==============================] - 2s 58ms/step - loss: 2.5737e-04\n",
            "Epoch 6/100\n",
            "28/28 [==============================] - 1s 35ms/step - loss: 2.7906e-04\n",
            "Epoch 7/100\n",
            "28/28 [==============================] - 1s 38ms/step - loss: 2.4798e-04\n",
            "Epoch 8/100\n",
            "28/28 [==============================] - 1s 38ms/step - loss: 2.4595e-04\n",
            "Epoch 9/100\n",
            "28/28 [==============================] - 1s 36ms/step - loss: 2.5564e-04\n",
            "Epoch 10/100\n",
            "28/28 [==============================] - 1s 34ms/step - loss: 3.1921e-04\n",
            "Epoch 11/100\n",
            "28/28 [==============================] - 1s 36ms/step - loss: 2.7378e-04\n",
            "Epoch 12/100\n",
            "28/28 [==============================] - 1s 38ms/step - loss: 2.2918e-04\n",
            "Epoch 13/100\n",
            "28/28 [==============================] - 1s 37ms/step - loss: 2.1647e-04\n",
            "Epoch 14/100\n",
            "28/28 [==============================] - 1s 35ms/step - loss: 1.9286e-04\n",
            "Epoch 15/100\n",
            "28/28 [==============================] - 1s 49ms/step - loss: 2.2009e-04\n",
            "Epoch 16/100\n",
            "28/28 [==============================] - 2s 65ms/step - loss: 2.0819e-04\n",
            "Epoch 17/100\n",
            "28/28 [==============================] - 1s 38ms/step - loss: 2.1743e-04\n",
            "Epoch 18/100\n",
            "28/28 [==============================] - 1s 36ms/step - loss: 1.9299e-04\n",
            "Epoch 19/100\n",
            "28/28 [==============================] - 1s 37ms/step - loss: 1.9197e-04\n",
            "Epoch 20/100\n",
            "28/28 [==============================] - 1s 35ms/step - loss: 1.8071e-04\n",
            "Epoch 21/100\n",
            "28/28 [==============================] - 1s 33ms/step - loss: 1.8778e-04\n",
            "Epoch 22/100\n",
            "28/28 [==============================] - 1s 37ms/step - loss: 1.6697e-04\n",
            "Epoch 23/100\n",
            "28/28 [==============================] - 1s 36ms/step - loss: 1.6347e-04\n",
            "Epoch 24/100\n",
            "28/28 [==============================] - 1s 37ms/step - loss: 1.5506e-04\n",
            "Epoch 25/100\n",
            "28/28 [==============================] - 1s 38ms/step - loss: 1.3701e-04\n",
            "Epoch 26/100\n",
            "28/28 [==============================] - 1s 36ms/step - loss: 1.7105e-04\n",
            "Epoch 27/100\n",
            "28/28 [==============================] - 2s 59ms/step - loss: 1.2325e-04\n",
            "Epoch 28/100\n",
            "28/28 [==============================] - 2s 54ms/step - loss: 1.1929e-04\n",
            "Epoch 29/100\n",
            "28/28 [==============================] - 1s 38ms/step - loss: 1.2004e-04\n",
            "Epoch 30/100\n",
            "28/28 [==============================] - 1s 35ms/step - loss: 1.1660e-04\n",
            "Epoch 31/100\n",
            "28/28 [==============================] - 1s 35ms/step - loss: 1.3209e-04\n",
            "Epoch 32/100\n",
            "28/28 [==============================] - 1s 36ms/step - loss: 1.3233e-04\n",
            "Epoch 33/100\n",
            "28/28 [==============================] - 1s 34ms/step - loss: 1.0632e-04\n",
            "Epoch 34/100\n",
            "28/28 [==============================] - 1s 34ms/step - loss: 1.2352e-04\n",
            "Epoch 35/100\n",
            "28/28 [==============================] - 1s 34ms/step - loss: 1.3328e-04\n",
            "Epoch 36/100\n",
            "28/28 [==============================] - 1s 34ms/step - loss: 1.2064e-04\n",
            "Epoch 37/100\n",
            "28/28 [==============================] - 1s 34ms/step - loss: 1.1582e-04\n",
            "Epoch 38/100\n",
            "28/28 [==============================] - 1s 37ms/step - loss: 1.1264e-04\n",
            "Epoch 39/100\n",
            "28/28 [==============================] - 2s 60ms/step - loss: 9.7568e-05\n",
            "Epoch 40/100\n",
            "28/28 [==============================] - 1s 50ms/step - loss: 1.0806e-04\n",
            "Epoch 41/100\n",
            "28/28 [==============================] - 1s 33ms/step - loss: 1.1727e-04\n",
            "Epoch 42/100\n",
            "28/28 [==============================] - 1s 34ms/step - loss: 1.0334e-04\n",
            "Epoch 43/100\n",
            "28/28 [==============================] - 1s 33ms/step - loss: 9.3135e-05\n",
            "Epoch 44/100\n",
            "28/28 [==============================] - 1s 34ms/step - loss: 1.0799e-04\n",
            "Epoch 45/100\n",
            "28/28 [==============================] - 1s 34ms/step - loss: 1.2272e-04\n",
            "Epoch 46/100\n",
            "28/28 [==============================] - 1s 38ms/step - loss: 1.0301e-04\n",
            "Epoch 47/100\n",
            "28/28 [==============================] - 1s 34ms/step - loss: 9.7131e-05\n",
            "Epoch 48/100\n",
            "28/28 [==============================] - 1s 37ms/step - loss: 9.3730e-05\n",
            "Epoch 49/100\n",
            "28/28 [==============================] - 1s 34ms/step - loss: 1.1350e-04\n",
            "Epoch 50/100\n",
            "28/28 [==============================] - 1s 46ms/step - loss: 8.5756e-05\n",
            "Epoch 51/100\n",
            "28/28 [==============================] - 2s 60ms/step - loss: 8.3841e-05\n",
            "Epoch 52/100\n",
            "28/28 [==============================] - 1s 40ms/step - loss: 8.4046e-05\n",
            "Epoch 53/100\n",
            "28/28 [==============================] - 1s 34ms/step - loss: 1.0696e-04\n",
            "Epoch 54/100\n",
            "28/28 [==============================] - 1s 37ms/step - loss: 9.8163e-05\n",
            "Epoch 55/100\n",
            "28/28 [==============================] - 1s 38ms/step - loss: 7.8541e-05\n",
            "Epoch 56/100\n",
            "28/28 [==============================] - 1s 38ms/step - loss: 8.5751e-05\n",
            "Epoch 57/100\n",
            "28/28 [==============================] - 1s 37ms/step - loss: 9.1147e-05\n",
            "Epoch 58/100\n",
            "28/28 [==============================] - 1s 38ms/step - loss: 9.5470e-05\n",
            "Epoch 59/100\n",
            "28/28 [==============================] - 1s 38ms/step - loss: 1.0192e-04\n",
            "Epoch 60/100\n",
            "28/28 [==============================] - 1s 37ms/step - loss: 7.8623e-05\n",
            "Epoch 61/100\n",
            "28/28 [==============================] - 1s 36ms/step - loss: 7.6700e-05\n",
            "Epoch 62/100\n",
            "28/28 [==============================] - 2s 62ms/step - loss: 6.9170e-05\n",
            "Epoch 63/100\n",
            "28/28 [==============================] - 1s 51ms/step - loss: 7.9499e-05\n",
            "Epoch 64/100\n",
            "28/28 [==============================] - 1s 38ms/step - loss: 6.9430e-05\n",
            "Epoch 65/100\n",
            "28/28 [==============================] - 1s 38ms/step - loss: 9.6032e-05\n",
            "Epoch 66/100\n",
            "28/28 [==============================] - 1s 39ms/step - loss: 8.3640e-05\n",
            "Epoch 67/100\n",
            "28/28 [==============================] - 1s 35ms/step - loss: 1.1240e-04\n",
            "Epoch 68/100\n",
            "28/28 [==============================] - 1s 37ms/step - loss: 7.3482e-05\n",
            "Epoch 69/100\n",
            "28/28 [==============================] - 1s 36ms/step - loss: 6.9853e-05\n",
            "Epoch 70/100\n",
            "28/28 [==============================] - 1s 37ms/step - loss: 7.7094e-05\n",
            "Epoch 71/100\n",
            "28/28 [==============================] - 1s 35ms/step - loss: 7.1416e-05\n",
            "Epoch 72/100\n",
            "28/28 [==============================] - 1s 39ms/step - loss: 7.3090e-05\n",
            "Epoch 73/100\n",
            "28/28 [==============================] - 2s 62ms/step - loss: 7.2433e-05\n",
            "Epoch 74/100\n",
            "28/28 [==============================] - 2s 54ms/step - loss: 7.6581e-05\n",
            "Epoch 75/100\n",
            "28/28 [==============================] - 1s 38ms/step - loss: 9.2056e-05\n",
            "Epoch 76/100\n",
            "28/28 [==============================] - 1s 38ms/step - loss: 1.0691e-04\n",
            "Epoch 77/100\n",
            "28/28 [==============================] - 1s 36ms/step - loss: 6.9316e-05\n",
            "Epoch 78/100\n",
            "28/28 [==============================] - 1s 37ms/step - loss: 7.1477e-05\n",
            "Epoch 79/100\n",
            "28/28 [==============================] - 1s 37ms/step - loss: 8.1643e-05\n",
            "Epoch 80/100\n",
            "28/28 [==============================] - 1s 38ms/step - loss: 6.2205e-05\n",
            "Epoch 81/100\n",
            "28/28 [==============================] - 1s 40ms/step - loss: 7.1345e-05\n",
            "Epoch 82/100\n",
            "28/28 [==============================] - 1s 35ms/step - loss: 6.5523e-05\n",
            "Epoch 83/100\n",
            "28/28 [==============================] - 1s 38ms/step - loss: 8.2560e-05\n",
            "Epoch 84/100\n",
            "28/28 [==============================] - 2s 59ms/step - loss: 6.6743e-05\n",
            "Epoch 85/100\n",
            "28/28 [==============================] - 1s 52ms/step - loss: 6.8653e-05\n",
            "Epoch 86/100\n",
            "28/28 [==============================] - 1s 38ms/step - loss: 5.9701e-05\n",
            "Epoch 87/100\n",
            "28/28 [==============================] - 1s 35ms/step - loss: 7.2374e-05\n",
            "Epoch 88/100\n",
            "28/28 [==============================] - 1s 34ms/step - loss: 7.0374e-05\n",
            "Epoch 89/100\n",
            "28/28 [==============================] - 2s 54ms/step - loss: 6.3383e-05\n",
            "Epoch 90/100\n",
            "28/28 [==============================] - 2s 55ms/step - loss: 7.0581e-05\n",
            "Epoch 91/100\n",
            "28/28 [==============================] - 1s 36ms/step - loss: 5.5382e-05\n",
            "Epoch 92/100\n",
            "28/28 [==============================] - 1s 36ms/step - loss: 6.3150e-05\n",
            "Epoch 93/100\n",
            "28/28 [==============================] - 1s 34ms/step - loss: 8.1042e-05\n",
            "Epoch 94/100\n",
            "28/28 [==============================] - 1s 42ms/step - loss: 5.7183e-05\n",
            "Epoch 95/100\n",
            "28/28 [==============================] - 2s 63ms/step - loss: 6.7925e-05\n",
            "Epoch 96/100\n",
            "28/28 [==============================] - 1s 44ms/step - loss: 7.5002e-05\n",
            "Epoch 97/100\n",
            "28/28 [==============================] - 1s 37ms/step - loss: 5.8036e-05\n",
            "Epoch 98/100\n",
            "28/28 [==============================] - 1s 39ms/step - loss: 6.6974e-05\n",
            "Epoch 99/100\n",
            "28/28 [==============================] - 1s 38ms/step - loss: 6.0538e-05\n",
            "Epoch 100/100\n",
            "28/28 [==============================] - 1s 38ms/step - loss: 5.8422e-05\n"
          ]
        },
        {
          "output_type": "execute_result",
          "data": {
            "text/plain": [
              "<keras.src.callbacks.History at 0x7dd1583208b0>"
            ]
          },
          "metadata": {},
          "execution_count": 12
        }
      ]
    },
    {
      "cell_type": "code",
      "source": [
        "# Create test dataset (scaled values from index 1773 to 2216)\n",
        "test_data = scaled_data[train_data_len-20: , :]\n",
        "\n",
        "# Split the data into x_test and y_test datasets\n",
        "x_test = []\n",
        "y_test = dataset[train_data_len: , :]\n",
        "\n",
        "for i in range(20, len(test_data)):\n",
        "  x_test.append(test_data[i-20:i, 0])"
      ],
      "metadata": {
        "id": "l_qqQ4-e_BZB"
      },
      "execution_count": null,
      "outputs": []
    },
    {
      "cell_type": "code",
      "source": [
        "# Convert test data into a numpy array\n",
        "x_test = np.array(x_test)\n",
        "\n",
        "# Reshape the test data\n",
        "x_test = np.reshape(x_test, (x_test.shape[0], x_test.shape[1], 1))"
      ],
      "metadata": {
        "id": "kegJGPTMAoaJ"
      },
      "execution_count": null,
      "outputs": []
    },
    {
      "cell_type": "code",
      "source": [
        "# Get the model's predicted close prices\n",
        "predictions = model.predict(x_test)\n",
        "predictions = scaler.inverse_transform(predictions)"
      ],
      "metadata": {
        "colab": {
          "base_uri": "https://localhost:8080/"
        },
        "id": "LAGaCZPkBSqd",
        "outputId": "a035e5b5-47b9-4a6f-9e06-45c097bda4a6"
      },
      "execution_count": null,
      "outputs": [
        {
          "output_type": "stream",
          "name": "stdout",
          "text": [
            "14/14 [==============================] - 1s 9ms/step\n"
          ]
        }
      ]
    },
    {
      "cell_type": "code",
      "source": [
        "# Evaluate the model using RMSE\n",
        "RMSE = np.sqrt(np.mean(((predictions-y_test)**2)))\n",
        "RMSE"
      ],
      "metadata": {
        "colab": {
          "base_uri": "https://localhost:8080/"
        },
        "id": "918sTk8DBmAX",
        "outputId": "41957350-7d86-44f5-8a02-d9f31813b301"
      },
      "execution_count": null,
      "outputs": [
        {
          "output_type": "execute_result",
          "data": {
            "text/plain": [
              "11.777764551743891"
            ]
          },
          "metadata": {},
          "execution_count": 16
        }
      ]
    },
    {
      "cell_type": "code",
      "source": [
        "# Plot the data\n",
        "train = data[:train_data_len]\n",
        "valid = data[train_data_len:]\n",
        "valid['Predictions'] = predictions\n",
        "\n",
        "# Visualise the data\n",
        "plt.figure(figsize=(16,8))\n",
        "plt.title('LSTM Model Performance')\n",
        "plt.xlabel('Date')\n",
        "plt.ylabel('Close Price')\n",
        "plt.plot(train['Close'])\n",
        "plt.plot(valid[['Close','Predictions']])\n",
        "plt.legend(['Train','Val','Predictions'], loc='lower right')\n",
        "plt.show()"
      ],
      "metadata": {
        "colab": {
          "base_uri": "https://localhost:8080/",
          "height": 477
        },
        "id": "Av90c97lDRKU",
        "outputId": "81256976-2ac1-4d6c-f383-22ca9fa1f16c"
      },
      "execution_count": null,
      "outputs": [
        {
          "output_type": "stream",
          "name": "stderr",
          "text": [
            "<ipython-input-101-bcef61fd739c>:4: SettingWithCopyWarning: \n",
            "A value is trying to be set on a copy of a slice from a DataFrame.\n",
            "Try using .loc[row_indexer,col_indexer] = value instead\n",
            "\n",
            "See the caveats in the documentation: https://pandas.pydata.org/pandas-docs/stable/user_guide/indexing.html#returning-a-view-versus-a-copy\n",
            "  valid['Predictions'] = predictions\n"
          ]
        },
        {
          "output_type": "display_data",
          "data": {
            "text/plain": [
              "<Figure size 1600x800 with 1 Axes>"
            ],
            "image/png": "[encoded data removed]"
          },
          "metadata": {}
        }
      ]
    },
    {
      "cell_type": "code",
      "source": [
        "# Include the validation data back into train set\n",
        "x_train = []\n",
        "y_train = []\n",
        "\n",
        "for i in range(20, len(scaled_data)):\n",
        "  x_train.append(scaled_data[i-20:i, 0])\n",
        "  y_train.append(scaled_data[i, 0])\n",
        "\n",
        "# Convert the x_train and y_train to numpy arrays\n",
        "x_train, y_train = np.array(x_train), np.array(y_train)\n",
        "\n",
        "# Reshape the data as the LSTM model expects the input data to be 3-dimensional (no. of samples, no. of timesteps, and no. of features)\n",
        "x_train = np.reshape(x_train, (x_train.shape[0], x_train.shape[1], 1))\n",
        "\n",
        "# Train the model again\n",
        "model.fit(x_train, y_train, batch_size=64, epochs=100)"
      ],
      "metadata": {
        "colab": {
          "base_uri": "https://localhost:8080/"
        },
        "id": "9wNz1O-_wzhW",
        "outputId": "3acef587-0290-4039-e0b5-88aa3524ef98"
      },
      "execution_count": null,
      "outputs": [
        {
          "output_type": "stream",
          "name": "stdout",
          "text": [
            "Epoch 1/100\n",
            "35/35 [==============================] - 1s 38ms/step - loss: 2.9012e-04\n",
            "Epoch 2/100\n",
            "35/35 [==============================] - 1s 34ms/step - loss: 1.7492e-04\n",
            "Epoch 3/100\n",
            "35/35 [==============================] - 1s 38ms/step - loss: 1.6478e-04\n",
            "Epoch 4/100\n",
            "35/35 [==============================] - 3s 82ms/step - loss: 1.4381e-04\n",
            "Epoch 5/100\n",
            "35/35 [==============================] - 2s 55ms/step - loss: 1.5858e-04\n",
            "Epoch 6/100\n",
            "35/35 [==============================] - 2s 49ms/step - loss: 1.4864e-04\n",
            "Epoch 7/100\n",
            "35/35 [==============================] - 2s 53ms/step - loss: 1.5417e-04\n",
            "Epoch 8/100\n",
            "35/35 [==============================] - 1s 34ms/step - loss: 1.4686e-04\n",
            "Epoch 9/100\n",
            "35/35 [==============================] - 1s 34ms/step - loss: 1.4455e-04\n",
            "Epoch 10/100\n",
            "35/35 [==============================] - 1s 36ms/step - loss: 2.5711e-04\n",
            "Epoch 11/100\n",
            "35/35 [==============================] - 1s 38ms/step - loss: 1.3943e-04\n",
            "Epoch 12/100\n",
            "35/35 [==============================] - 1s 35ms/step - loss: 1.3249e-04\n",
            "Epoch 13/100\n",
            "35/35 [==============================] - 1s 37ms/step - loss: 1.4657e-04\n",
            "Epoch 14/100\n",
            "35/35 [==============================] - 1s 36ms/step - loss: 1.4461e-04\n",
            "Epoch 15/100\n",
            "35/35 [==============================] - 1s 41ms/step - loss: 1.3464e-04\n",
            "Epoch 16/100\n",
            "35/35 [==============================] - 2s 61ms/step - loss: 1.1833e-04\n",
            "Epoch 17/100\n",
            "35/35 [==============================] - 1s 34ms/step - loss: 1.2222e-04\n",
            "Epoch 18/100\n",
            "35/35 [==============================] - 1s 36ms/step - loss: 1.3220e-04\n",
            "Epoch 19/100\n",
            "35/35 [==============================] - 1s 35ms/step - loss: 1.3231e-04\n",
            "Epoch 20/100\n",
            "35/35 [==============================] - 1s 37ms/step - loss: 1.2441e-04\n",
            "Epoch 21/100\n",
            "35/35 [==============================] - 1s 37ms/step - loss: 1.2877e-04\n",
            "Epoch 22/100\n",
            "35/35 [==============================] - 1s 34ms/step - loss: 1.1102e-04\n",
            "Epoch 23/100\n",
            "35/35 [==============================] - 1s 37ms/step - loss: 1.0895e-04\n",
            "Epoch 24/100\n",
            "35/35 [==============================] - 1s 39ms/step - loss: 1.4102e-04\n",
            "Epoch 25/100\n",
            "35/35 [==============================] - 2s 60ms/step - loss: 1.1239e-04\n",
            "Epoch 26/100\n",
            "35/35 [==============================] - 2s 44ms/step - loss: 2.1281e-04\n",
            "Epoch 27/100\n",
            "35/35 [==============================] - 1s 37ms/step - loss: 1.2748e-04\n",
            "Epoch 28/100\n",
            "35/35 [==============================] - 1s 37ms/step - loss: 1.1190e-04\n",
            "Epoch 29/100\n",
            "35/35 [==============================] - 1s 38ms/step - loss: 1.2914e-04\n",
            "Epoch 30/100\n",
            "35/35 [==============================] - 1s 35ms/step - loss: 1.5443e-04\n",
            "Epoch 31/100\n",
            "35/35 [==============================] - 1s 38ms/step - loss: 1.1939e-04\n",
            "Epoch 32/100\n",
            "35/35 [==============================] - 1s 38ms/step - loss: 1.2029e-04\n",
            "Epoch 33/100\n",
            "35/35 [==============================] - 1s 41ms/step - loss: 1.1314e-04\n",
            "Epoch 34/100\n",
            "35/35 [==============================] - 2s 65ms/step - loss: 1.3052e-04\n",
            "Epoch 35/100\n",
            "35/35 [==============================] - 1s 36ms/step - loss: 1.0491e-04\n",
            "Epoch 36/100\n",
            "35/35 [==============================] - 1s 36ms/step - loss: 1.1184e-04\n",
            "Epoch 37/100\n",
            "35/35 [==============================] - 1s 34ms/step - loss: 1.2704e-04\n",
            "Epoch 38/100\n",
            "35/35 [==============================] - 1s 34ms/step - loss: 1.3178e-04\n",
            "Epoch 39/100\n",
            "35/35 [==============================] - 1s 33ms/step - loss: 1.0712e-04\n",
            "Epoch 40/100\n",
            "35/35 [==============================] - 1s 35ms/step - loss: 1.7448e-04\n",
            "Epoch 41/100\n",
            "35/35 [==============================] - 1s 38ms/step - loss: 1.0969e-04\n",
            "Epoch 42/100\n",
            "35/35 [==============================] - 1s 35ms/step - loss: 1.2883e-04\n",
            "Epoch 43/100\n",
            "35/35 [==============================] - 2s 63ms/step - loss: 1.1990e-04\n",
            "Epoch 44/100\n",
            "35/35 [==============================] - 2s 44ms/step - loss: 1.1068e-04\n",
            "Epoch 45/100\n",
            "35/35 [==============================] - 2s 54ms/step - loss: 1.2141e-04\n",
            "Epoch 46/100\n",
            "35/35 [==============================] - 2s 48ms/step - loss: 1.1022e-04\n",
            "Epoch 47/100\n",
            "35/35 [==============================] - 1s 37ms/step - loss: 1.1884e-04\n",
            "Epoch 48/100\n",
            "35/35 [==============================] - 1s 36ms/step - loss: 1.1467e-04\n",
            "Epoch 49/100\n",
            "35/35 [==============================] - 1s 37ms/step - loss: 1.0454e-04\n",
            "Epoch 50/100\n",
            "35/35 [==============================] - 1s 37ms/step - loss: 1.0872e-04\n",
            "Epoch 51/100\n",
            "35/35 [==============================] - 2s 58ms/step - loss: 1.0979e-04\n",
            "Epoch 52/100\n",
            "35/35 [==============================] - 2s 50ms/step - loss: 1.0910e-04\n",
            "Epoch 53/100\n",
            "35/35 [==============================] - 1s 38ms/step - loss: 1.3198e-04\n",
            "Epoch 54/100\n",
            "35/35 [==============================] - 1s 38ms/step - loss: 1.1266e-04\n",
            "Epoch 55/100\n",
            "35/35 [==============================] - 1s 36ms/step - loss: 1.3031e-04\n",
            "Epoch 56/100\n",
            "35/35 [==============================] - 1s 35ms/step - loss: 1.0391e-04\n",
            "Epoch 57/100\n",
            "35/35 [==============================] - 1s 35ms/step - loss: 1.0349e-04\n",
            "Epoch 58/100\n",
            "35/35 [==============================] - 1s 38ms/step - loss: 1.0886e-04\n",
            "Epoch 59/100\n",
            "35/35 [==============================] - 1s 36ms/step - loss: 1.4606e-04\n",
            "Epoch 60/100\n",
            "35/35 [==============================] - 2s 56ms/step - loss: 1.1520e-04\n",
            "Epoch 61/100\n",
            "35/35 [==============================] - 2s 50ms/step - loss: 1.2635e-04\n",
            "Epoch 62/100\n",
            "35/35 [==============================] - 1s 35ms/step - loss: 1.3289e-04\n",
            "Epoch 63/100\n",
            "35/35 [==============================] - 1s 38ms/step - loss: 1.2431e-04\n",
            "Epoch 64/100\n",
            "35/35 [==============================] - 1s 35ms/step - loss: 1.2538e-04\n",
            "Epoch 65/100\n",
            "35/35 [==============================] - 1s 38ms/step - loss: 1.1290e-04\n",
            "Epoch 66/100\n",
            "35/35 [==============================] - 1s 38ms/step - loss: 1.1478e-04\n",
            "Epoch 67/100\n",
            "35/35 [==============================] - 1s 39ms/step - loss: 1.1140e-04\n",
            "Epoch 68/100\n",
            "35/35 [==============================] - 2s 57ms/step - loss: 1.1716e-04\n",
            "Epoch 69/100\n",
            "35/35 [==============================] - 2s 71ms/step - loss: 1.1170e-04\n",
            "Epoch 70/100\n",
            "35/35 [==============================] - 1s 35ms/step - loss: 1.0528e-04\n",
            "Epoch 71/100\n",
            "35/35 [==============================] - 1s 37ms/step - loss: 1.1804e-04\n",
            "Epoch 72/100\n",
            "35/35 [==============================] - 1s 38ms/step - loss: 1.3045e-04\n",
            "Epoch 73/100\n",
            "35/35 [==============================] - 1s 39ms/step - loss: 1.1257e-04\n",
            "Epoch 74/100\n",
            "35/35 [==============================] - 1s 36ms/step - loss: 1.0913e-04\n",
            "Epoch 75/100\n",
            "35/35 [==============================] - 1s 36ms/step - loss: 1.1452e-04\n",
            "Epoch 76/100\n",
            "35/35 [==============================] - 2s 65ms/step - loss: 1.1954e-04\n",
            "Epoch 77/100\n",
            "35/35 [==============================] - 4s 109ms/step - loss: 1.2221e-04\n",
            "Epoch 78/100\n",
            "35/35 [==============================] - 2s 60ms/step - loss: 1.0626e-04\n",
            "Epoch 79/100\n",
            "35/35 [==============================] - 3s 75ms/step - loss: 1.1723e-04\n",
            "Epoch 80/100\n",
            "35/35 [==============================] - 1s 39ms/step - loss: 1.1386e-04\n",
            "Epoch 81/100\n",
            "35/35 [==============================] - 1s 38ms/step - loss: 1.2457e-04\n",
            "Epoch 82/100\n",
            "35/35 [==============================] - 1s 37ms/step - loss: 1.2415e-04\n",
            "Epoch 83/100\n",
            "35/35 [==============================] - 2s 51ms/step - loss: 1.0574e-04\n",
            "Epoch 84/100\n",
            "35/35 [==============================] - 2s 53ms/step - loss: 1.1016e-04\n",
            "Epoch 85/100\n",
            "35/35 [==============================] - 1s 38ms/step - loss: 1.1832e-04\n",
            "Epoch 86/100\n",
            "35/35 [==============================] - 1s 38ms/step - loss: 1.1337e-04\n",
            "Epoch 87/100\n",
            "35/35 [==============================] - 1s 36ms/step - loss: 1.6042e-04\n",
            "Epoch 88/100\n",
            "35/35 [==============================] - 2s 71ms/step - loss: 1.1119e-04\n",
            "Epoch 89/100\n",
            "35/35 [==============================] - 2s 49ms/step - loss: 1.1521e-04\n",
            "Epoch 90/100\n",
            "35/35 [==============================] - 3s 74ms/step - loss: 1.1478e-04\n",
            "Epoch 91/100\n",
            "35/35 [==============================] - 4s 112ms/step - loss: 1.2151e-04\n",
            "Epoch 92/100\n",
            "35/35 [==============================] - 1s 35ms/step - loss: 1.4389e-04\n",
            "Epoch 93/100\n",
            "35/35 [==============================] - 1s 35ms/step - loss: 1.1722e-04\n",
            "Epoch 94/100\n",
            "35/35 [==============================] - 1s 37ms/step - loss: 1.0396e-04\n",
            "Epoch 95/100\n",
            "35/35 [==============================] - 1s 35ms/step - loss: 1.0219e-04\n",
            "Epoch 96/100\n",
            "35/35 [==============================] - 1s 36ms/step - loss: 1.2313e-04\n",
            "Epoch 97/100\n",
            "35/35 [==============================] - 1s 38ms/step - loss: 1.3538e-04\n",
            "Epoch 98/100\n",
            "35/35 [==============================] - 2s 50ms/step - loss: 1.1294e-04\n",
            "Epoch 99/100\n",
            "35/35 [==============================] - 2s 68ms/step - loss: 1.0866e-04\n",
            "Epoch 100/100\n",
            "35/35 [==============================] - 3s 77ms/step - loss: 1.0098e-04\n"
          ]
        },
        {
          "output_type": "execute_result",
          "data": {
            "text/plain": [
              "<keras.src.callbacks.History at 0x7dd147557d60>"
            ]
          },
          "metadata": {},
          "execution_count": 23
        }
      ]
    },
    {
      "cell_type": "code",
      "source": [
        "x_train.shape"
      ],
      "metadata": {
        "colab": {
          "base_uri": "https://localhost:8080/"
        },
        "id": "E7gyyZWn22w6",
        "outputId": "eae21aa8-2cd0-4c16-fd51-5b722935a14a"
      },
      "execution_count": null,
      "outputs": [
        {
          "output_type": "execute_result",
          "data": {
            "text/plain": [
              "(2196, 20, 1)"
            ]
          },
          "metadata": {},
          "execution_count": 49
        }
      ]
    },
    {
      "cell_type": "code",
      "source": [
        "# Getting the input of last 20 days before the first future day we are going to predict\n",
        "future_x = scaled_data[len(scaled_data)-20: , :]\n",
        "future_x=future_x.reshape(1,-1)\n",
        "future_x.shape"
      ],
      "metadata": {
        "colab": {
          "base_uri": "https://localhost:8080/"
        },
        "id": "6MQ9ykUtzwc4",
        "outputId": "e44ebb93-1781-4ac7-f477-3f3e537f5479"
      },
      "execution_count": null,
      "outputs": [
        {
          "output_type": "execute_result",
          "data": {
            "text/plain": [
              "(1, 20)"
            ]
          },
          "metadata": {},
          "execution_count": 95
        }
      ]
    },
    {
      "cell_type": "code",
      "source": [
        "# Creating a list of this input of 20 days\n",
        "temp_x = list(future_x)\n",
        "temp_x = temp_x[0].tolist()"
      ],
      "metadata": {
        "id": "cXmW8qz13ycz"
      },
      "execution_count": null,
      "outputs": []
    },
    {
      "cell_type": "code",
      "source": [
        "# Predicting the close price for the next 12 trading days (23th Oct - 7 Nov) using current data\n",
        "predicted_prices = []\n",
        "n_steps = 20\n",
        "i = 0\n",
        "\n",
        "while i < 12:\n",
        "  if len(temp_x) > 20:\n",
        "    future_x = np.array(temp_x[1:])\n",
        "    future_x = future_x.reshape(1,-1)\n",
        "    future_x = future_x.reshape(1, n_steps, 1)\n",
        "    future_y = model.predict(future_x, verbose=0)\n",
        "    temp_x.extend(future_y[0].tolist())\n",
        "    temp_x = temp_x[1:]\n",
        "    predicted_prices.extend(future_y.tolist())\n",
        "    i += 1\n",
        "  else:\n",
        "    future_x = future_x.reshape(1, n_steps, 1)\n",
        "    future_y = model.predict(future_x, verbose=0)\n",
        "    temp_x.extend(future_y[0].tolist())\n",
        "    predicted_prices.extend(future_y.tolist())\n",
        "    i += 1\n",
        "\n",
        "predicted_prices = scaler.inverse_transform(predicted_prices)\n",
        "predicted_prices = predicted_prices[2:]\n",
        "predicted_prices\n"
      ],
      "metadata": {
        "colab": {
          "base_uri": "https://localhost:8080/"
        },
        "id": "POjuThFv8RAT",
        "outputId": "b94d65e4-17b9-4451-c906-b4dffe888159"
      },
      "execution_count": null,
      "outputs": [
        {
          "output_type": "execute_result",
          "data": {
            "text/plain": [
              "array([[402.67513048],\n",
              "       [399.16187693],\n",
              "       [396.03002821],\n",
              "       [393.33205224],\n",
              "       [391.00607125],\n",
              "       [389.01543636],\n",
              "       [387.26870012],\n",
              "       [385.67336634],\n",
              "       [384.13996859],\n",
              "       [382.63509173]])"
            ]
          },
          "metadata": {},
          "execution_count": 97
        }
      ]
    },
    {
      "cell_type": "code",
      "source": [
        "# Export the predictions to a CSV file\n",
        "df = pd.DataFrame({'Close': predicted_prices.ravel()})\n",
        "df.to_csv('N_Ashwin_Kumar_Project_1.csv', index=True)"
      ],
      "metadata": {
        "id": "h__ZXvhMA0NW"
      },
      "execution_count": null,
      "outputs": []
    }
  ]
}